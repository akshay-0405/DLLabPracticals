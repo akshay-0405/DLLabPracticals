{
  "nbformat": 4,
  "nbformat_minor": 0,
  "metadata": {
    "colab": {
      "provenance": []
    },
    "kernelspec": {
      "name": "python3",
      "display_name": "Python 3"
    },
    "language_info": {
      "name": "python"
    }
  },
  "cells": [
    {
      "cell_type": "code",
      "source": [
        "# 1. Import Required Libraries\n",
        "\n",
        "import tensorflow as tf\n",
        "from tensorflow.keras import layers, models\n",
        "import numpy as np\n",
        "import matplotlib.pyplot as plt\n",
        "from sklearn.metrics import mean_squared_error"
      ],
      "metadata": {
        "id": "a9EQps_N6vxw"
      },
      "execution_count": null,
      "outputs": []
    },
    {
      "cell_type": "code",
      "source": [
        "#2. Upload / Access the Dataset\n",
        "\n",
        "# Load dataset (e.g., MNIST dataset for simplicity)\n",
        "(train_images, _), (test_images, _) = tf.keras.datasets.mnist.load_data()\n",
        "\n",
        "# Normalize and reshape images\n",
        "train_images = train_images.astype('float32') / 255.0\n",
        "test_images = test_images.astype('float32') / 255.0\n",
        "train_images = np.reshape(train_images, (len(train_images), 28, 28, 1))\n",
        "test_images = np.reshape(test_images, (len(test_images), 28, 28, 1))"
      ],
      "metadata": {
        "id": "r0E5pXHlOsl1"
      },
      "execution_count": null,
      "outputs": []
    },
    {
      "cell_type": "code",
      "source": [
        "# 3. Build the Encoder Model\n",
        "# The encoder compresses the input image into a lower-dimensional latent representation.\n",
        "\n",
        "\n",
        "# Encoder model\n",
        "input_img = tf.keras.Input(shape=(28, 28, 1))\n",
        "x = layers.Conv2D(32, (3, 3), activation='relu', padding='same')(input_img)\n",
        "x = layers.MaxPooling2D((2, 2), padding='same')(x)\n",
        "x = layers.Conv2D(16, (3, 3), activation='relu', padding='same')(x)\n",
        "encoded = layers.MaxPooling2D((2, 2), padding='same')(x)\n",
        "\n",
        "# Latent representation has shape (7, 7, 16)"
      ],
      "metadata": {
        "id": "5vwIoQsrOx2k"
      },
      "execution_count": null,
      "outputs": []
    },
    {
      "cell_type": "code",
      "source": [
        "# 4. Build the Decoder Model\n",
        "# The decoder reconstructs the latent representation back into the original input shape.\n",
        "\n",
        "# Decoder model\n",
        "x = layers.Conv2D(16, (3, 3), activation='relu', padding='same')(encoded)\n",
        "x = layers.UpSampling2D((2, 2))(x)\n",
        "x = layers.Conv2D(32, (3, 3), activation='relu', padding='same')(x)\n",
        "x = layers.UpSampling2D((2, 2))(x)\n",
        "decoded = layers.Conv2D(1, (3, 3), activation='sigmoid', padding='same')(x)"
      ],
      "metadata": {
        "id": "yX8ty0sTOz89"
      },
      "execution_count": null,
      "outputs": []
    },
    {
      "cell_type": "code",
      "source": [
        "# Full autoencoder model\n",
        "autoencoder = models.Model(input_img, decoded)\n",
        "\n",
        "# Compile the model\n",
        "autoencoder.compile(optimizer='adam', loss='binary_crossentropy', metrics=['accuracy'])\n"
      ],
      "metadata": {
        "id": "Hv-7wu0-O2et"
      },
      "execution_count": null,
      "outputs": []
    },
    {
      "cell_type": "code",
      "source": [
        "# Train the autoencoder\n",
        "history = autoencoder.fit(train_images, train_images, epochs=1, batch_size=128, validation_split=0.2)\n"
      ],
      "metadata": {
        "colab": {
          "base_uri": "https://localhost:8080/"
        },
        "id": "sr8aLPKuO5pk",
        "outputId": "39d73090-552b-468a-c947-c0015f029ab0"
      },
      "execution_count": null,
      "outputs": [
        {
          "output_type": "stream",
          "name": "stdout",
          "text": [
            "\u001b[1m375/375\u001b[0m \u001b[32m━━━━━━━━━━━━━━━━━━━━\u001b[0m\u001b[37m\u001b[0m \u001b[1m86s\u001b[0m 222ms/step - accuracy: 0.8028 - loss: 0.2465 - val_accuracy: 0.8150 - val_loss: 0.0842\n"
          ]
        }
      ]
    },
    {
      "cell_type": "code",
      "source": [
        "# Reconstruct test images\n",
        "reconstructed = autoencoder.predict(test_images)\n",
        "\n",
        "# Calculate reconstruction error\n",
        "mse = np.mean(np.square(test_images - reconstructed), axis=(1, 2, 3))\n",
        "\n",
        "# Set threshold (e.g., 95th percentile of MSE)\n",
        "threshold = np.percentile(mse, 95)\n",
        "\n",
        "# Identify anomalies\n",
        "anomalies = mse > threshold\n",
        "print(\"Number of anomalies detected:\", np.sum(anomalies))\n",
        "print(\"\")\n",
        "print(\"\")\n",
        "\n",
        "# Display a few example images\n",
        "plt.figure(figsize=(12, 6))\n",
        "for i in range(5):\n",
        "    # Display original images\n",
        "    plt.subplot(2, 5, i + 1)\n",
        "\n",
        "    plt.imshow(test_images[i].reshape(28, 28), cmap='gray')\n",
        "    plt.axis('off')\n",
        "    # Display reconstructed images\n",
        "    plt.subplot(2, 5, i + 6)\n",
        "    plt.imshow(reconstructed[i].reshape(28, 28), cmap='gray')\n",
        "    plt.axis('off')\n",
        "plt.show()\n"
      ],
      "metadata": {
        "colab": {
          "base_uri": "https://localhost:8080/",
          "height": 442
        },
        "id": "tpxIJ39tPI_I",
        "outputId": "b59a40e0-ff7b-478a-b18e-df33eb187e40"
      },
      "execution_count": null,
      "outputs": [
        {
          "output_type": "stream",
          "name": "stdout",
          "text": [
            "\u001b[1m313/313\u001b[0m \u001b[32m━━━━━━━━━━━━━━━━━━━━\u001b[0m\u001b[37m\u001b[0m \u001b[1m5s\u001b[0m 14ms/step\n",
            "Number of anomalies detected: 500\n"
          ]
        },
        {
          "output_type": "display_data",
          "data": {
            "text/plain": [
              "<Figure size 1200x600 with 10 Axes>"
            ],
            "image/png": "[encoded data removed]"
          },
          "metadata": {}
        }
      ]
    }
  ]
}